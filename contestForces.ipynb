{
 "cells": [
  {
   "cell_type": "markdown",
   "metadata": {},
   "source": [
    "# Find All Tags"
   ]
  },
  {
   "cell_type": "code",
   "execution_count": 1,
   "metadata": {
    "scrolled": true
   },
   "outputs": [
    {
     "name": "stdout",
     "output_type": "stream",
     "text": [
      "1. implementation\n",
      "2. dp\n",
      "3. math\n",
      "4. greedy\n",
      "5. brute force\n",
      "6. data structures\n",
      "7. constructive algorithms\n",
      "8. dfs and similar\n",
      "9. sortings\n",
      "10. binary search\n",
      "11. graphs\n",
      "12. trees\n",
      "13. strings\n",
      "14. number theory\n",
      "15. geometry\n",
      "16. combinatorics\n",
      "17. two pointers\n",
      "18. dsu\n",
      "19. bitmasks\n",
      "20. probabilities\n",
      "21. shortest paths\n",
      "22. hashing\n",
      "23. divide and conquer\n",
      "24. games\n",
      "25. matrices\n",
      "26. flows\n",
      "27. string suffix structures\n",
      "28. expression parsing\n",
      "29. graph matchings\n",
      "30. ternary search\n",
      "31. meet-in-the-middle\n",
      "32. fft\n",
      "33. 2-sat\n",
      "34. chinese remainder theorem\n",
      "35. schedules\n"
     ]
    }
   ],
   "source": [
    "with open(\"input.txt\") as f:\n",
    "    content = f.readlines()\n",
    "content = [x.strip() for x in content] \n",
    "cnt=1\n",
    "for x in content:\n",
    "    print(cnt,\". \",x,sep=\"\")\n",
    "    cnt+=1"
   ]
  },
  {
   "cell_type": "markdown",
   "metadata": {},
   "source": [
    "# Get all Data in files"
   ]
  },
  {
   "cell_type": "code",
   "execution_count": 2,
   "metadata": {},
   "outputs": [],
   "source": [
    "import requests\n",
    "for x in content:\n",
    "    f = open(x+\".txt\", \"w\")\n",
    "    problemURL = \"https://codeforces.com/api/problemset.problems\"\n",
    "    PARAMS = {'tags' : x}\n",
    "    r = requests.get(url = problemURL, params = PARAMS)\n",
    "    myData = r.json()\n",
    "    toCheck = myData['result']['problemStatistics']\n",
    "    for i in range(len(toCheck)):\n",
    "        if(toCheck[i]['solvedCount']<1500 and toCheck[i]['index']==\"B\"):\n",
    "            myUrl = \"https://codeforces.com/problemset/problem/\"+str(toCheck[i]['contestId'])+\"/\"+str(toCheck[i]['index'])+\"\\n\"\n",
    "            f.write(myUrl)\n",
    "        elif(toCheck[i]['solvedCount']>850 and toCheck[i]['index']==\"C\"):\n",
    "            myUrl = \"https://codeforces.com/problemset/problem/\"+str(toCheck[i]['contestId'])+\"/\"+str(toCheck[i]['index'])+\"\\n\"\n",
    "            f.write(myUrl)\n",
    "        elif(toCheck[i]['solvedCount']>950 and toCheck[i]['index']==\"D\"):\n",
    "            myUrl = \"https://codeforces.com/problemset/problem/\"+str(toCheck[i]['contestId'])+\"/\"+str(toCheck[i]['index'])+\"\\n\"\n",
    "            f.write(myUrl)\n",
    "        elif(toCheck[i]['solvedCount']>1300 and (toCheck[i]['index']==\"E\" or toCheck[i]['index']==\"F\")):\n",
    "            myUrl = \"https://codeforces.com/problemset/problem/\"+str(toCheck[i]['contestId'])+\"/\"+str(toCheck[i]['index'])+\"\\n\"\n",
    "            f.write(myUrl)"
   ]
  },
  {
   "cell_type": "markdown",
   "metadata": {},
   "source": [
    "# Ask User for Tags"
   ]
  },
  {
   "cell_type": "code",
   "execution_count": 3,
   "metadata": {},
   "outputs": [
    {
     "name": "stdout",
     "output_type": "stream",
     "text": [
      "How many problems-> 4\n",
      "Expected Time( 1hr for each problem )\n",
      "Problem Tag-> 2\n",
      "Problem Tag-> 11\n",
      "Problem Tag-> 17\n",
      "Problem Tag-> 35\n"
     ]
    }
   ],
   "source": [
    "problems =int(input(\"How many problems-> \"))\n",
    "print(\"Expected Time( 1hr for each problem )\")\n",
    "problemTagNum = []\n",
    "if(problems<10):\n",
    "    for i in range(problems):\n",
    "        problemTagNum.append(int(input(\"Problem Tag-> \")))"
   ]
  },
  {
   "cell_type": "markdown",
   "metadata": {},
   "source": [
    "# Giving Back the Urls"
   ]
  },
  {
   "cell_type": "code",
   "execution_count": 5,
   "metadata": {},
   "outputs": [
    {
     "name": "stdout",
     "output_type": "stream",
     "text": [
      "https://codeforces.com/problemset/problem/8/C\n",
      "https://codeforces.com/problemset/problem/989/C\n",
      "https://codeforces.com/problemset/problem/46/C\n",
      "Sorry no matching problems Found( Make weaker restrictions )\n"
     ]
    }
   ],
   "source": [
    "import random\n",
    "for x in problemTagNum:\n",
    "    lines = open(content[int(x)-1]+\".txt\").read().splitlines()\n",
    "    try:\n",
    "        myline =random.choice(lines)\n",
    "        print(myline)\n",
    "    except:\n",
    "        print(\"Sorry no matching problems Found( Make weaker restrictions )\")"
   ]
  },
  {
   "cell_type": "code",
   "execution_count": null,
   "metadata": {},
   "outputs": [],
   "source": []
  }
 ],
 "metadata": {
  "kernelspec": {
   "display_name": "Python 3",
   "language": "python",
   "name": "python3"
  },
  "language_info": {
   "codemirror_mode": {
    "name": "ipython",
    "version": 3
   },
   "file_extension": ".py",
   "mimetype": "text/x-python",
   "name": "python",
   "nbconvert_exporter": "python",
   "pygments_lexer": "ipython3",
   "version": "3.7.0"
  }
 },
 "nbformat": 4,
 "nbformat_minor": 2
}
